{
  "nbformat": 4,
  "nbformat_minor": 0,
  "metadata": {
    "colab": {
      "provenance": [],
      "authorship_tag": "ABX9TyO8E32O55hjwm/YMnpdePja",
      "include_colab_link": true
    },
    "kernelspec": {
      "name": "python3",
      "display_name": "Python 3"
    },
    "language_info": {
      "name": "python"
    }
  },
  "cells": [
    {
      "cell_type": "markdown",
      "metadata": {
        "id": "view-in-github",
        "colab_type": "text"
      },
      "source": [
        "<a href=\"https://colab.research.google.com/github/felipesayegg/cnn_homer_bart/blob/main/CNN.ipynb\" target=\"_parent\"><img src=\"https://colab.research.google.com/assets/colab-badge.svg\" alt=\"Open In Colab\"/></a>"
      ]
    },
    {
      "cell_type": "markdown",
      "source": [
        "# 1.  Introdução\n",
        "\n",
        "\n",
        "### 📌 Checkpoint 05 – Classificação de Imagens com Redes Neurais Convolucionais (CNN)\n",
        "\n",
        "Este projeto tem como objetivo aplicar os conhecimentos adquiridos sobre Redes Neurais Convolucionais (CNNs), utilizando o framework TensorFlow/Keras, para realizar a classificação de imagens dos personagens Homer Simpson e Bart Simpson.\n",
        "\n",
        "A proposta é construir um modelo de Deep Learning capaz de aprender padrões visuais a partir de um conjunto de imagens previamente organizadas em pastas por classe (Homer e Bart), realizando o treinamento, validação e posteriormente a previsão sobre novas imagens.\n",
        "\n",
        "Este checkpoint está estruturado em cinco etapas principais:\n",
        "1. Definição do problema  \n",
        "2. Pré-processamento das imagens  \n",
        "3. Criação e explicação da arquitetura da CNN  \n",
        "4. Avaliação do desempenho do modelo  \n",
        "5. Teste de previsão com uma imagem externa  \n",
        "\n",
        "O foco é avaliar diferentes configurações da rede neural e compreender como pequenos ajustes podem impactar na capacidade do modelo de identificar corretamente os personagens. Ao final, será feita uma previsão real com uma imagem nova obtida da internet para validar o desempenho do modelo em dados fora da amostra.\n",
        "\n",
        "---\n"
      ],
      "metadata": {
        "id": "Wy9i6bDpHgiX"
      }
    },
    {
      "cell_type": "code",
      "execution_count": 120,
      "metadata": {
        "id": "RkcQG9W4E2LB"
      },
      "outputs": [],
      "source": [
        "# 📚 BIBLIOTECAS UTILIZADAS NESTE PROJETO\n",
        "\n",
        "# 🔧 Ferramentas do TensorFlow para criar, treinar e avaliar a rede neural\n",
        "from tensorflow.keras.models import Sequential  # Permite criar o modelo de rede camada por camada\n",
        "from tensorflow.keras.layers import Conv2D, MaxPooling2D, Flatten, Dense, Dropout  # Camadas principais para CNN\n",
        "from tensorflow.keras.preprocessing.image import ImageDataGenerator  # Gera as imagens e aplica pré-processamentos automaticamente\n",
        "\n",
        "# 🧮 NumPy para manipulação de arrays (como imagens) e preparação de dados\n",
        "import numpy as np\n",
        "\n",
        "# 🖼️ PIL (Python Imaging Library) é usada para abrir e tratar imagens externas\n",
        "from PIL import Image\n",
        "\n",
        "# 🌐 Requests permite fazer o download de uma imagem da internet de forma simples\n",
        "import requests\n",
        "\n",
        "# 🖥️ Se estiver usando o Google Colab, essas podem ser úteis também:\n",
        "# from google.colab import drive  # Para montar o Google Drive (caso use dataset de lá)\n",
        "# import os  # Para navegar entre pastas, criar diretórios etc.\n",
        "\n",
        "# 💬 Observação:\n",
        "# Todas essas bibliotecas são bastante comuns em projetos com Deep Learning usando Keras/TensorFlow.\n",
        "# A ideia aqui é manter o código limpo, compreensível e modular, facilitando futuras adaptações ou melhorias.\n"
      ]
    },
    {
      "cell_type": "markdown",
      "source": [
        "## 1️⃣ Definição do Problema\n",
        "\n",
        "Neste projeto, vamos treinar uma rede neural convolucional (CNN) para identificar qual personagem está em uma imagem: **Homer Simpson** ou **Bart Simpson**.\n",
        "\n",
        "A proposta é usar um conjunto de imagens organizadas em pastas (uma para cada personagem) e treinar um modelo com TensorFlow/Keras capaz de reconhecer padrões visuais, como formato do rosto, cor da roupa ou estilo do cabelo, que ajudem a diferenciar os dois personagens.\n",
        "\n",
        "Será usada uma divisão dos dados em treinamento e validação, para que possamos medir o desempenho do modelo e evitar que ele apenas “decore” os exemplos vistos.\n",
        "\n",
        "A CNN será avaliada com base na sua acurácia (percentual de acertos) e também testada com uma imagem externa, vinda da internet, para verificar sua capacidade de generalização.\n",
        "\n",
        "---\n"
      ],
      "metadata": {
        "id": "GeBOvAs0Je5u"
      }
    },
    {
      "cell_type": "markdown",
      "source": [
        "# 2. Pré-processamento das imagens"
      ],
      "metadata": {
        "id": "nJUuGajuMzDC"
      }
    },
    {
      "cell_type": "code",
      "source": [
        "# 📚 Bibliotecas para lidar com arquivos temporários e compactados\n",
        "import tempfile  # 🔧 Cria pastas temporárias — elas são apagadas automaticamente ao final da execução\n",
        "import zipfile   # 📦 Permite abrir e extrair arquivos .zip\n",
        "\n",
        "# 🗂️ Criando uma pasta temporária para extrair o conteúdo do zip\n",
        "temp_dir = tempfile.TemporaryDirectory()  # Isso cria uma pasta que só existe enquanto o notebook estiver rodando\n"
      ],
      "metadata": {
        "id": "m_uNh8daI1Wl"
      },
      "execution_count": 121,
      "outputs": []
    },
    {
      "cell_type": "code",
      "source": [
        "\n",
        "# 🔓 Abrindo o arquivo zip com as imagens dos personagens\n",
        "with zipfile.ZipFile('/content/dataset_personagens (1).zip', 'r') as zip_ref:\n",
        "    zip_ref.extractall(temp_dir.name)  # Extraindo todo o conteúdo para a pasta temporária\n",
        "\n",
        "# 🔍 Visualizando o caminho da pasta extraída\n",
        "print(\"Imagens extraídas em:\", temp_dir.name)"
      ],
      "metadata": {
        "colab": {
          "base_uri": "https://localhost:8080/"
        },
        "id": "7q6rxGb8KuOv",
        "outputId": "5cbdb8c7-7d70-4793-a4d4-65fe0cc59cfb"
      },
      "execution_count": 122,
      "outputs": [
        {
          "output_type": "stream",
          "name": "stdout",
          "text": [
            "Imagens extraídas em: /tmp/tmpwb1y6qdy\n"
          ]
        }
      ]
    },
    {
      "cell_type": "markdown",
      "source": [
        "#3. Criação e explicação da arquitetura da CNN"
      ],
      "metadata": {
        "id": "fKZ-YljcNBsd"
      }
    },
    {
      "cell_type": "code",
      "source": [
        "# 🔨 Importando os \"blocos de montar\" da nossa rede neural\n",
        "\n",
        "from tensorflow.keras.models import Sequential\n",
        "# 📚 Modelo sequencial: permite empilhar camadas de forma linear (uma após a outra)\n",
        "\n",
        "from tensorflow.keras.layers import (\n",
        "    InputLayer,         # 🎯 Define a forma da entrada (opcional no modelo sequencial, mas útil para deixar claro o formato da imagem)\n",
        "    Conv2D,             # 🧩 Camada convolucional: identifica padrões visuais como bordas, contornos e texturas\n",
        "    MaxPooling2D,       # 🔽 Reduz a dimensão da imagem (ex: de 150x150 para 75x75), ajudando a evitar overfitting e economizar memória\n",
        "    Flatten,            # 🧷 Transforma a imagem em vetor (necessário antes das camadas densas)\n",
        "    Dense,              # 🔌 Camada clássica de rede neural (totalmente conectada)\n",
        "    Dropout,            # 💧 Desativa aleatoriamente uma porcentagem dos neurônios durante o treino, prevenindo overfitting\n",
        "    BatchNormalization  # 🧼 Normaliza as ativações entre as camadas, acelerando e estabilizando o aprendizado\n",
        ")\n",
        "\n",
        "# 🖼️ Leitura de imagens individuais — útil para testar uma imagem depois do treino\n",
        "from tensorflow.keras.preprocessing import image\n",
        "\n",
        "# 🗂️ Leitura de imagens em massa a partir de pastas organizadas por classe\n",
        "from tensorflow.keras.preprocessing.image import ImageDataGenerator\n",
        "# ⚙️ É o gerador que prepara os dados para o treino e validação (normalização, redimensionamento, separação)\n"
      ],
      "metadata": {
        "id": "9ll-JhcFL5q-"
      },
      "execution_count": 124,
      "outputs": []
    },
    {
      "cell_type": "markdown",
      "source": [
        "\n",
        "Nesta etapa, importamos todos os recursos que serão utilizados para:\n",
        "\n",
        "- **Montar a arquitetura da CNN**: camadas convolucionais, pooling, normalização, etc.\n",
        "- **Carregar as imagens corretamente**: tanto em lote (ImageDataGenerator) quanto individuais (para teste).\n",
        "- **Melhorar a performance do modelo**: usando técnicas como Dropout (anti-overfitting) e BatchNormalization (estabilidade).\n",
        "\n",
        "Essas importações são fundamentais para que as próximas etapas (construção do modelo, treino e avaliação) funcionem de forma modular, clara e eficiente.\n"
      ],
      "metadata": {
        "id": "Wouow8-GL6ad"
      }
    },
    {
      "cell_type": "code",
      "source": [
        "# 🧠 Criando a CNN com o modelo sequencial — camada por camada\n",
        "from tensorflow.keras.models import Sequential\n",
        "from tensorflow.keras.layers import InputLayer, Conv2D, MaxPooling2D, Flatten, Dense, Dropout, BatchNormalization\n",
        "\n",
        "# 🔧 Instanciando o modelo\n",
        "model = Sequential()\n",
        "\n",
        "# 🎯 Camada de entrada: define o tamanho esperado das imagens (150x150 pixels, 3 canais — RGB)\n",
        "# O uso do InputLayer é opcional no Keras, mas ajuda a deixar claro o formato esperado\n",
        "model.add(InputLayer(input_shape=(150, 150, 3)))\n",
        "\n",
        "# 🔍 1ª camada convolucional: aplica 32 filtros 3x3 na imagem para detectar padrões simples (como bordas e contornos)\n",
        "model.add(Conv2D(32, (3, 3), activation='relu'))\n",
        "model.add(BatchNormalization())  # 🧼 Normaliza a saída para estabilidade e desempenho\n",
        "model.add(MaxPooling2D(pool_size=(2, 2)))  # 🔽 Reduz a dimensão da imagem pela metade\n",
        "\n",
        "# 🔍 2ª camada convolucional: aumenta a capacidade de aprendizado com mais filtros\n",
        "model.add(Conv2D(64, (3, 3), activation='relu'))\n",
        "model.add(BatchNormalization())\n",
        "model.add(MaxPooling2D(pool_size=(2, 2)))\n",
        "\n",
        "# 🔍 3ª camada convolucional: ainda mais filtros para captar padrões mais detalhados\n",
        "model.add(Conv2D(128, (3, 3), activation='relu'))\n",
        "model.add(BatchNormalization())\n",
        "model.add(MaxPooling2D(pool_size=(2, 2)))\n",
        "\n",
        "# 🧷 Flatten: transforma a matriz da imagem em um vetor para entrar nas camadas densas\n",
        "model.add(Flatten())\n",
        "\n",
        "# 🔌 Primeira camada densa: 128 neurônios que ajudam a rede a tomar decisões mais abstratas\n",
        "model.add(Dense(128, activation='relu'))\n",
        "model.add(Dropout(0.3))  # 💧 Desativa 30% dos neurônios para evitar overfitting\n",
        "\n",
        "# 🔌 Segunda camada densa (opcional, mas dá mais capacidade ao modelo)\n",
        "model.add(Dense(128, activation='relu'))\n",
        "model.add(Dropout(0.3))\n",
        "\n",
        "# 🎯 Camada de saída: 2 neurônios (Homer e Bart) com softmax para obter a probabilidade de cada classe\n",
        "model.add(Dense(2, activation='softmax'))\n",
        "\n",
        "# ⚙️ Compilando o modelo\n",
        "model.compile(\n",
        "    optimizer='adam',                # 🔧 Otimizador inteligente e automático\n",
        "    loss='categorical_crossentropy', # 🎯 Ideal para classificação com 2+ categorias com one-hot encoding\n",
        "    metrics=['accuracy']             # 📊 Acurácia para avaliar desempenho\n",
        ")\n",
        "\n",
        "# 📋 Exibe a estrutura da rede\n",
        "model.summary()\n"
      ],
      "metadata": {
        "colab": {
          "base_uri": "https://localhost:8080/",
          "height": 715
        },
        "id": "KqvPVByZMB_X",
        "outputId": "49d38ea0-be8e-47e0-e89c-cafa1345341a"
      },
      "execution_count": 125,
      "outputs": [
        {
          "output_type": "stream",
          "name": "stderr",
          "text": [
            "/usr/local/lib/python3.11/dist-packages/keras/src/layers/core/input_layer.py:27: UserWarning: Argument `input_shape` is deprecated. Use `shape` instead.\n",
            "  warnings.warn(\n"
          ]
        },
        {
          "output_type": "display_data",
          "data": {
            "text/plain": [
              "\u001b[1mModel: \"sequential_2\"\u001b[0m\n"
            ],
            "text/html": [
              "<pre style=\"white-space:pre;overflow-x:auto;line-height:normal;font-family:Menlo,'DejaVu Sans Mono',consolas,'Courier New',monospace\"><span style=\"font-weight: bold\">Model: \"sequential_2\"</span>\n",
              "</pre>\n"
            ]
          },
          "metadata": {}
        },
        {
          "output_type": "display_data",
          "data": {
            "text/plain": [
              "┏━━━━━━━━━━━━━━━━━━━━━━━━━━━━━━━━━┳━━━━━━━━━━━━━━━━━━━━━━━━┳━━━━━━━━━━━━━━━┓\n",
              "┃\u001b[1m \u001b[0m\u001b[1mLayer (type)                   \u001b[0m\u001b[1m \u001b[0m┃\u001b[1m \u001b[0m\u001b[1mOutput Shape          \u001b[0m\u001b[1m \u001b[0m┃\u001b[1m \u001b[0m\u001b[1m      Param #\u001b[0m\u001b[1m \u001b[0m┃\n",
              "┡━━━━━━━━━━━━━━━━━━━━━━━━━━━━━━━━━╇━━━━━━━━━━━━━━━━━━━━━━━━╇━━━━━━━━━━━━━━━┩\n",
              "│ conv2d_6 (\u001b[38;5;33mConv2D\u001b[0m)               │ (\u001b[38;5;45mNone\u001b[0m, \u001b[38;5;34m148\u001b[0m, \u001b[38;5;34m148\u001b[0m, \u001b[38;5;34m32\u001b[0m)   │           \u001b[38;5;34m896\u001b[0m │\n",
              "├─────────────────────────────────┼────────────────────────┼───────────────┤\n",
              "│ batch_normalization_6           │ (\u001b[38;5;45mNone\u001b[0m, \u001b[38;5;34m148\u001b[0m, \u001b[38;5;34m148\u001b[0m, \u001b[38;5;34m32\u001b[0m)   │           \u001b[38;5;34m128\u001b[0m │\n",
              "│ (\u001b[38;5;33mBatchNormalization\u001b[0m)            │                        │               │\n",
              "├─────────────────────────────────┼────────────────────────┼───────────────┤\n",
              "│ max_pooling2d_6 (\u001b[38;5;33mMaxPooling2D\u001b[0m)  │ (\u001b[38;5;45mNone\u001b[0m, \u001b[38;5;34m74\u001b[0m, \u001b[38;5;34m74\u001b[0m, \u001b[38;5;34m32\u001b[0m)     │             \u001b[38;5;34m0\u001b[0m │\n",
              "├─────────────────────────────────┼────────────────────────┼───────────────┤\n",
              "│ conv2d_7 (\u001b[38;5;33mConv2D\u001b[0m)               │ (\u001b[38;5;45mNone\u001b[0m, \u001b[38;5;34m72\u001b[0m, \u001b[38;5;34m72\u001b[0m, \u001b[38;5;34m64\u001b[0m)     │        \u001b[38;5;34m18,496\u001b[0m │\n",
              "├─────────────────────────────────┼────────────────────────┼───────────────┤\n",
              "│ batch_normalization_7           │ (\u001b[38;5;45mNone\u001b[0m, \u001b[38;5;34m72\u001b[0m, \u001b[38;5;34m72\u001b[0m, \u001b[38;5;34m64\u001b[0m)     │           \u001b[38;5;34m256\u001b[0m │\n",
              "│ (\u001b[38;5;33mBatchNormalization\u001b[0m)            │                        │               │\n",
              "├─────────────────────────────────┼────────────────────────┼───────────────┤\n",
              "│ max_pooling2d_7 (\u001b[38;5;33mMaxPooling2D\u001b[0m)  │ (\u001b[38;5;45mNone\u001b[0m, \u001b[38;5;34m36\u001b[0m, \u001b[38;5;34m36\u001b[0m, \u001b[38;5;34m64\u001b[0m)     │             \u001b[38;5;34m0\u001b[0m │\n",
              "├─────────────────────────────────┼────────────────────────┼───────────────┤\n",
              "│ conv2d_8 (\u001b[38;5;33mConv2D\u001b[0m)               │ (\u001b[38;5;45mNone\u001b[0m, \u001b[38;5;34m34\u001b[0m, \u001b[38;5;34m34\u001b[0m, \u001b[38;5;34m128\u001b[0m)    │        \u001b[38;5;34m73,856\u001b[0m │\n",
              "├─────────────────────────────────┼────────────────────────┼───────────────┤\n",
              "│ batch_normalization_8           │ (\u001b[38;5;45mNone\u001b[0m, \u001b[38;5;34m34\u001b[0m, \u001b[38;5;34m34\u001b[0m, \u001b[38;5;34m128\u001b[0m)    │           \u001b[38;5;34m512\u001b[0m │\n",
              "│ (\u001b[38;5;33mBatchNormalization\u001b[0m)            │                        │               │\n",
              "├─────────────────────────────────┼────────────────────────┼───────────────┤\n",
              "│ max_pooling2d_8 (\u001b[38;5;33mMaxPooling2D\u001b[0m)  │ (\u001b[38;5;45mNone\u001b[0m, \u001b[38;5;34m17\u001b[0m, \u001b[38;5;34m17\u001b[0m, \u001b[38;5;34m128\u001b[0m)    │             \u001b[38;5;34m0\u001b[0m │\n",
              "├─────────────────────────────────┼────────────────────────┼───────────────┤\n",
              "│ flatten_2 (\u001b[38;5;33mFlatten\u001b[0m)             │ (\u001b[38;5;45mNone\u001b[0m, \u001b[38;5;34m36992\u001b[0m)          │             \u001b[38;5;34m0\u001b[0m │\n",
              "├─────────────────────────────────┼────────────────────────┼───────────────┤\n",
              "│ dense_6 (\u001b[38;5;33mDense\u001b[0m)                 │ (\u001b[38;5;45mNone\u001b[0m, \u001b[38;5;34m128\u001b[0m)            │     \u001b[38;5;34m4,735,104\u001b[0m │\n",
              "├─────────────────────────────────┼────────────────────────┼───────────────┤\n",
              "│ dropout_4 (\u001b[38;5;33mDropout\u001b[0m)             │ (\u001b[38;5;45mNone\u001b[0m, \u001b[38;5;34m128\u001b[0m)            │             \u001b[38;5;34m0\u001b[0m │\n",
              "├─────────────────────────────────┼────────────────────────┼───────────────┤\n",
              "│ dense_7 (\u001b[38;5;33mDense\u001b[0m)                 │ (\u001b[38;5;45mNone\u001b[0m, \u001b[38;5;34m128\u001b[0m)            │        \u001b[38;5;34m16,512\u001b[0m │\n",
              "├─────────────────────────────────┼────────────────────────┼───────────────┤\n",
              "│ dropout_5 (\u001b[38;5;33mDropout\u001b[0m)             │ (\u001b[38;5;45mNone\u001b[0m, \u001b[38;5;34m128\u001b[0m)            │             \u001b[38;5;34m0\u001b[0m │\n",
              "├─────────────────────────────────┼────────────────────────┼───────────────┤\n",
              "│ dense_8 (\u001b[38;5;33mDense\u001b[0m)                 │ (\u001b[38;5;45mNone\u001b[0m, \u001b[38;5;34m2\u001b[0m)              │           \u001b[38;5;34m258\u001b[0m │\n",
              "└─────────────────────────────────┴────────────────────────┴───────────────┘\n"
            ],
            "text/html": [
              "<pre style=\"white-space:pre;overflow-x:auto;line-height:normal;font-family:Menlo,'DejaVu Sans Mono',consolas,'Courier New',monospace\">┏━━━━━━━━━━━━━━━━━━━━━━━━━━━━━━━━━┳━━━━━━━━━━━━━━━━━━━━━━━━┳━━━━━━━━━━━━━━━┓\n",
              "┃<span style=\"font-weight: bold\"> Layer (type)                    </span>┃<span style=\"font-weight: bold\"> Output Shape           </span>┃<span style=\"font-weight: bold\">       Param # </span>┃\n",
              "┡━━━━━━━━━━━━━━━━━━━━━━━━━━━━━━━━━╇━━━━━━━━━━━━━━━━━━━━━━━━╇━━━━━━━━━━━━━━━┩\n",
              "│ conv2d_6 (<span style=\"color: #0087ff; text-decoration-color: #0087ff\">Conv2D</span>)               │ (<span style=\"color: #00d7ff; text-decoration-color: #00d7ff\">None</span>, <span style=\"color: #00af00; text-decoration-color: #00af00\">148</span>, <span style=\"color: #00af00; text-decoration-color: #00af00\">148</span>, <span style=\"color: #00af00; text-decoration-color: #00af00\">32</span>)   │           <span style=\"color: #00af00; text-decoration-color: #00af00\">896</span> │\n",
              "├─────────────────────────────────┼────────────────────────┼───────────────┤\n",
              "│ batch_normalization_6           │ (<span style=\"color: #00d7ff; text-decoration-color: #00d7ff\">None</span>, <span style=\"color: #00af00; text-decoration-color: #00af00\">148</span>, <span style=\"color: #00af00; text-decoration-color: #00af00\">148</span>, <span style=\"color: #00af00; text-decoration-color: #00af00\">32</span>)   │           <span style=\"color: #00af00; text-decoration-color: #00af00\">128</span> │\n",
              "│ (<span style=\"color: #0087ff; text-decoration-color: #0087ff\">BatchNormalization</span>)            │                        │               │\n",
              "├─────────────────────────────────┼────────────────────────┼───────────────┤\n",
              "│ max_pooling2d_6 (<span style=\"color: #0087ff; text-decoration-color: #0087ff\">MaxPooling2D</span>)  │ (<span style=\"color: #00d7ff; text-decoration-color: #00d7ff\">None</span>, <span style=\"color: #00af00; text-decoration-color: #00af00\">74</span>, <span style=\"color: #00af00; text-decoration-color: #00af00\">74</span>, <span style=\"color: #00af00; text-decoration-color: #00af00\">32</span>)     │             <span style=\"color: #00af00; text-decoration-color: #00af00\">0</span> │\n",
              "├─────────────────────────────────┼────────────────────────┼───────────────┤\n",
              "│ conv2d_7 (<span style=\"color: #0087ff; text-decoration-color: #0087ff\">Conv2D</span>)               │ (<span style=\"color: #00d7ff; text-decoration-color: #00d7ff\">None</span>, <span style=\"color: #00af00; text-decoration-color: #00af00\">72</span>, <span style=\"color: #00af00; text-decoration-color: #00af00\">72</span>, <span style=\"color: #00af00; text-decoration-color: #00af00\">64</span>)     │        <span style=\"color: #00af00; text-decoration-color: #00af00\">18,496</span> │\n",
              "├─────────────────────────────────┼────────────────────────┼───────────────┤\n",
              "│ batch_normalization_7           │ (<span style=\"color: #00d7ff; text-decoration-color: #00d7ff\">None</span>, <span style=\"color: #00af00; text-decoration-color: #00af00\">72</span>, <span style=\"color: #00af00; text-decoration-color: #00af00\">72</span>, <span style=\"color: #00af00; text-decoration-color: #00af00\">64</span>)     │           <span style=\"color: #00af00; text-decoration-color: #00af00\">256</span> │\n",
              "│ (<span style=\"color: #0087ff; text-decoration-color: #0087ff\">BatchNormalization</span>)            │                        │               │\n",
              "├─────────────────────────────────┼────────────────────────┼───────────────┤\n",
              "│ max_pooling2d_7 (<span style=\"color: #0087ff; text-decoration-color: #0087ff\">MaxPooling2D</span>)  │ (<span style=\"color: #00d7ff; text-decoration-color: #00d7ff\">None</span>, <span style=\"color: #00af00; text-decoration-color: #00af00\">36</span>, <span style=\"color: #00af00; text-decoration-color: #00af00\">36</span>, <span style=\"color: #00af00; text-decoration-color: #00af00\">64</span>)     │             <span style=\"color: #00af00; text-decoration-color: #00af00\">0</span> │\n",
              "├─────────────────────────────────┼────────────────────────┼───────────────┤\n",
              "│ conv2d_8 (<span style=\"color: #0087ff; text-decoration-color: #0087ff\">Conv2D</span>)               │ (<span style=\"color: #00d7ff; text-decoration-color: #00d7ff\">None</span>, <span style=\"color: #00af00; text-decoration-color: #00af00\">34</span>, <span style=\"color: #00af00; text-decoration-color: #00af00\">34</span>, <span style=\"color: #00af00; text-decoration-color: #00af00\">128</span>)    │        <span style=\"color: #00af00; text-decoration-color: #00af00\">73,856</span> │\n",
              "├─────────────────────────────────┼────────────────────────┼───────────────┤\n",
              "│ batch_normalization_8           │ (<span style=\"color: #00d7ff; text-decoration-color: #00d7ff\">None</span>, <span style=\"color: #00af00; text-decoration-color: #00af00\">34</span>, <span style=\"color: #00af00; text-decoration-color: #00af00\">34</span>, <span style=\"color: #00af00; text-decoration-color: #00af00\">128</span>)    │           <span style=\"color: #00af00; text-decoration-color: #00af00\">512</span> │\n",
              "│ (<span style=\"color: #0087ff; text-decoration-color: #0087ff\">BatchNormalization</span>)            │                        │               │\n",
              "├─────────────────────────────────┼────────────────────────┼───────────────┤\n",
              "│ max_pooling2d_8 (<span style=\"color: #0087ff; text-decoration-color: #0087ff\">MaxPooling2D</span>)  │ (<span style=\"color: #00d7ff; text-decoration-color: #00d7ff\">None</span>, <span style=\"color: #00af00; text-decoration-color: #00af00\">17</span>, <span style=\"color: #00af00; text-decoration-color: #00af00\">17</span>, <span style=\"color: #00af00; text-decoration-color: #00af00\">128</span>)    │             <span style=\"color: #00af00; text-decoration-color: #00af00\">0</span> │\n",
              "├─────────────────────────────────┼────────────────────────┼───────────────┤\n",
              "│ flatten_2 (<span style=\"color: #0087ff; text-decoration-color: #0087ff\">Flatten</span>)             │ (<span style=\"color: #00d7ff; text-decoration-color: #00d7ff\">None</span>, <span style=\"color: #00af00; text-decoration-color: #00af00\">36992</span>)          │             <span style=\"color: #00af00; text-decoration-color: #00af00\">0</span> │\n",
              "├─────────────────────────────────┼────────────────────────┼───────────────┤\n",
              "│ dense_6 (<span style=\"color: #0087ff; text-decoration-color: #0087ff\">Dense</span>)                 │ (<span style=\"color: #00d7ff; text-decoration-color: #00d7ff\">None</span>, <span style=\"color: #00af00; text-decoration-color: #00af00\">128</span>)            │     <span style=\"color: #00af00; text-decoration-color: #00af00\">4,735,104</span> │\n",
              "├─────────────────────────────────┼────────────────────────┼───────────────┤\n",
              "│ dropout_4 (<span style=\"color: #0087ff; text-decoration-color: #0087ff\">Dropout</span>)             │ (<span style=\"color: #00d7ff; text-decoration-color: #00d7ff\">None</span>, <span style=\"color: #00af00; text-decoration-color: #00af00\">128</span>)            │             <span style=\"color: #00af00; text-decoration-color: #00af00\">0</span> │\n",
              "├─────────────────────────────────┼────────────────────────┼───────────────┤\n",
              "│ dense_7 (<span style=\"color: #0087ff; text-decoration-color: #0087ff\">Dense</span>)                 │ (<span style=\"color: #00d7ff; text-decoration-color: #00d7ff\">None</span>, <span style=\"color: #00af00; text-decoration-color: #00af00\">128</span>)            │        <span style=\"color: #00af00; text-decoration-color: #00af00\">16,512</span> │\n",
              "├─────────────────────────────────┼────────────────────────┼───────────────┤\n",
              "│ dropout_5 (<span style=\"color: #0087ff; text-decoration-color: #0087ff\">Dropout</span>)             │ (<span style=\"color: #00d7ff; text-decoration-color: #00d7ff\">None</span>, <span style=\"color: #00af00; text-decoration-color: #00af00\">128</span>)            │             <span style=\"color: #00af00; text-decoration-color: #00af00\">0</span> │\n",
              "├─────────────────────────────────┼────────────────────────┼───────────────┤\n",
              "│ dense_8 (<span style=\"color: #0087ff; text-decoration-color: #0087ff\">Dense</span>)                 │ (<span style=\"color: #00d7ff; text-decoration-color: #00d7ff\">None</span>, <span style=\"color: #00af00; text-decoration-color: #00af00\">2</span>)              │           <span style=\"color: #00af00; text-decoration-color: #00af00\">258</span> │\n",
              "└─────────────────────────────────┴────────────────────────┴───────────────┘\n",
              "</pre>\n"
            ]
          },
          "metadata": {}
        },
        {
          "output_type": "display_data",
          "data": {
            "text/plain": [
              "\u001b[1m Total params: \u001b[0m\u001b[38;5;34m4,846,018\u001b[0m (18.49 MB)\n"
            ],
            "text/html": [
              "<pre style=\"white-space:pre;overflow-x:auto;line-height:normal;font-family:Menlo,'DejaVu Sans Mono',consolas,'Courier New',monospace\"><span style=\"font-weight: bold\"> Total params: </span><span style=\"color: #00af00; text-decoration-color: #00af00\">4,846,018</span> (18.49 MB)\n",
              "</pre>\n"
            ]
          },
          "metadata": {}
        },
        {
          "output_type": "display_data",
          "data": {
            "text/plain": [
              "\u001b[1m Trainable params: \u001b[0m\u001b[38;5;34m4,845,570\u001b[0m (18.48 MB)\n"
            ],
            "text/html": [
              "<pre style=\"white-space:pre;overflow-x:auto;line-height:normal;font-family:Menlo,'DejaVu Sans Mono',consolas,'Courier New',monospace\"><span style=\"font-weight: bold\"> Trainable params: </span><span style=\"color: #00af00; text-decoration-color: #00af00\">4,845,570</span> (18.48 MB)\n",
              "</pre>\n"
            ]
          },
          "metadata": {}
        },
        {
          "output_type": "display_data",
          "data": {
            "text/plain": [
              "\u001b[1m Non-trainable params: \u001b[0m\u001b[38;5;34m448\u001b[0m (1.75 KB)\n"
            ],
            "text/html": [
              "<pre style=\"white-space:pre;overflow-x:auto;line-height:normal;font-family:Menlo,'DejaVu Sans Mono',consolas,'Courier New',monospace\"><span style=\"font-weight: bold\"> Non-trainable params: </span><span style=\"color: #00af00; text-decoration-color: #00af00\">448</span> (1.75 KB)\n",
              "</pre>\n"
            ]
          },
          "metadata": {}
        }
      ]
    },
    {
      "cell_type": "markdown",
      "source": [
        "\n",
        "Neste passo, foi criada a rede neural convolucional que será treinada para reconhecer imagens dos personagens **Homer Simpson e Bart Simpson**.\n",
        "\n",
        "A estrutura da rede inclui:\n",
        "\n",
        "- **3 camadas convolucionais** com filtros 3x3 que aprendem padrões visuais (bordas, formas e detalhes).\n",
        "- **Pooling** para reduzir a complexidade e evitar overfitting.\n",
        "- **Batch Normalization**, que acelera o treinamento e dá estabilidade ao modelo.\n",
        "- **Dropout**, que desativa neurônios de forma aleatória para forçar a rede a generalizar (ótimo contra overfitting).\n",
        "- **2 camadas densas intermediárias** para decisões mais complexas.\n",
        "- **1 camada de saída com 2 neurônios**, ativada por `softmax`, que retorna a probabilidade de cada imagem ser do Homer ou do Bart.\n",
        "\n",
        "A rede foi compilada com o otimizador `adam` e a função de perda `categorical_crossentropy`, adequada ao formato `categorical` usado pelo `ImageDataGenerator`.\n",
        "\n",
        "Agora o modelo está pronto para ser treinado! 😎\n"
      ],
      "metadata": {
        "id": "PCR1VRXTMV5b"
      }
    },
    {
      "cell_type": "markdown",
      "source": [
        "#4. – Avaliação do Desempenho do Modelo"
      ],
      "metadata": {
        "id": "Si-KrvpkNhUb"
      }
    },
    {
      "cell_type": "code",
      "source": [
        "# 🧪 Criando o GERADOR DE IMAGENS para o CONJUNTO DE TREINAMENTO\n",
        "# Este gerador aplica transformações aleatórias nas imagens para aumentar a diversidade dos dados.\n",
        "# Isso ajuda a rede a aprender de forma mais robusta e generalizar melhor para imagens novas.\n",
        "\n",
        "\n",
        "\n",
        "gerador_treinamento = ImageDataGenerator(\n",
        "    rescale=1./255,              # 🔄 Normaliza os pixels (0 a 255 → 0.0 a 1.0)\n",
        "    rotation_range=10,           # 🔁 Rotaciona a imagem em até 10° para simular diferentes ângulos\n",
        "    zoom_range=0.2,              # 🔍 Aplica zoom aleatório (aproxima ou afasta um pouco)\n",
        "    shear_range=0.2,             # 💫 Inclina a imagem para os lados (cisalhamento)\n",
        "    horizontal_flip=True,        # ↔️ Espelha horizontalmente (ex: Bart olhando pro outro lado)\n",
        "    height_shift_range=0.07,     # ⬆️⬇️ Move a imagem verticalmente\n",
        "    width_shift_range=0.07,      # ⬅️➡️ Move a imagem horizontalmente\n",
        "    validation_split=0.2         # 🔀 Separa 20% das imagens para o conjunto de validação\n",
        ")"
      ],
      "metadata": {
        "id": "nyXXoyJwNjiz"
      },
      "execution_count": 126,
      "outputs": []
    },
    {
      "cell_type": "code",
      "source": [
        "# 🔍 Criando o GERADOR DE VALIDAÇÃO\n",
        "# Neste caso, só normalizamos as imagens — sem distorções.\n",
        "# A ideia é avaliar o modelo com imagens “limpas”, que não foram alteradas.\n",
        "\n",
        "gerador_validacao = ImageDataGenerator(rescale=1./255)"
      ],
      "metadata": {
        "id": "qLUaoS5OOeeP"
      },
      "execution_count": 127,
      "outputs": []
    },
    {
      "cell_type": "code",
      "source": [
        "# 💡 Importante: criando o carregador (gerador) de imagens para TREINAMENTO\n",
        "base_treinamento = gerador_treinamento.flow_from_directory(\n",
        "\n",
        "    # 📁 Caminho da pasta onde estão as imagens organizadas por classe (bart/ e homer/)\n",
        "    f\"{temp_dir.name}/dataset_personagens/training_set\",\n",
        "\n",
        "    # 📐 Redimensiona todas as imagens para 150x150 pixels\n",
        "    # Isso garante que todas tenham o mesmo tamanho de entrada para a CNN\n",
        "    target_size=(150, 150),\n",
        "\n",
        "    # 📦 Define quantas imagens serão carregadas por vez (lote/batch)\n",
        "    # Isso influencia na performance da memória durante o treino\n",
        "    batch_size=32,\n",
        "\n",
        "    # 🏷️ Define o tipo da saída (rótulos)\n",
        "    # 'categorical' cria uma codificação one-hot (ex: [1, 0] para Bart, [0, 1] para Homer)\n",
        "    class_mode='categorical',\n",
        "\n",
        "    # 🔁 Usa apenas 80% das imagens para TREINO\n",
        "    # Os outros 20% serão usados como validação (definido separadamente)\n",
        "    subset='training'\n",
        ")\n"
      ],
      "metadata": {
        "colab": {
          "base_uri": "https://localhost:8080/"
        },
        "id": "hCb7j8qoOhtP",
        "outputId": "4a7ed6ac-2878-4d8f-92c5-b9d0a812fc46"
      },
      "execution_count": 131,
      "outputs": [
        {
          "output_type": "stream",
          "name": "stdout",
          "text": [
            "Found 158 images belonging to 2 classes.\n"
          ]
        }
      ]
    },
    {
      "cell_type": "code",
      "source": [
        "# ✅ Criando o carregador de imagens para VALIDAÇÃO (avaliação do modelo)\n",
        "base_validacao = gerador_treinamento.flow_from_directory(\n",
        "\n",
        "    # 📁 Mesmo caminho da pasta de treino, pois o ImageDataGenerator com validation_split=0.2\n",
        "    # já faz a separação automaticamente em 80% treino e 20% validação\n",
        "    f\"{temp_dir.name}/dataset_personagens/training_set\",\n",
        "\n",
        "    # 📐 Redimensiona todas as imagens para 150x150 pixels\n",
        "    # Isso mantém o padrão de entrada esperado pela CNN\n",
        "    target_size=(150, 150),\n",
        "\n",
        "    # 📦 Lote de imagens processadas por vez (igual ao do treino)\n",
        "    batch_size=32,\n",
        "\n",
        "    # 🏷️ Usa codificação 'one-hot' para os rótulos (ex: [1, 0] ou [0, 1])\n",
        "    class_mode='categorical',\n",
        "\n",
        "    # 🧪 Aqui definimos que essas imagens são da parte de VALIDAÇÃO (os 20%)\n",
        "    # Isso é importante para avaliar o desempenho do modelo em dados “novos”\n",
        "    subset='validation'\n",
        ")\n"
      ],
      "metadata": {
        "colab": {
          "base_uri": "https://localhost:8080/"
        },
        "id": "VxfbFa2eOjYA",
        "outputId": "981117b8-7ad4-4e3a-ebe5-0b856ffb4719"
      },
      "execution_count": 132,
      "outputs": [
        {
          "output_type": "stream",
          "name": "stdout",
          "text": [
            "Found 38 images belonging to 2 classes.\n"
          ]
        }
      ]
    },
    {
      "cell_type": "code",
      "source": [
        "# 🧪 Criando o GERADOR DE IMAGENS para o CONJUNTO DE TREINAMENTO e VALIDAÇÃO\n",
        "# Esse gerador aplica transformações nas imagens para “aumentar” a variedade visual dos dados.\n",
        "# Isso é essencial quando temos poucas imagens, pois ajuda o modelo a generalizar melhor e evita que ele decore os dados.\n",
        "\n",
        "gerador_treinamento = ImageDataGenerator(\n",
        "    rescale=1./255,  # 🔄 Normaliza os pixels da imagem de 0-255 para 0-1 (melhora o desempenho do modelo)\n",
        "\n",
        "    rotation_range=20,  # 🔁 Rotaciona a imagem em até 20° aleatoriamente (simula diferentes ângulos de visão)\n",
        "\n",
        "    zoom_range=0.3,  # 🔍 Aplica zoom em até 30% da imagem — simula aproximação da câmera ou foco em detalhes\n",
        "\n",
        "    shear_range=0.3,  # 💫 Aplica distorções diagonais (cisalhamento) — como se a imagem fosse esticada de lado\n",
        "\n",
        "    horizontal_flip=True,  # ↔️ Espelha horizontalmente (ex: Bart olhando para a esquerda vira Bart olhando para a direita)\n",
        "\n",
        "    width_shift_range=0.1,  # ⬅️➡️ Move a imagem para os lados em até 10% da largura\n",
        "\n",
        "    height_shift_range=0.1,  # ⬆️⬇️ Move a imagem para cima ou para baixo em até 10% da altura\n",
        "\n",
        "    validation_split=0.2  # 📊 Reserva 20% das imagens para a validação (os outros 80% serão usados no treino)\n",
        ")\n"
      ],
      "metadata": {
        "id": "CCCVScBFP78h"
      },
      "execution_count": 133,
      "outputs": []
    },
    {
      "cell_type": "code",
      "source": [
        "# 🚀 Treinando o modelo de rede neural com os dados preparados\n",
        "historico = model.fit(\n",
        "\n",
        "    base_treinamento,  # 📚 Conjunto de imagens para TREINO, gerado com augmentations e rótulos\n",
        "\n",
        "    epochs=30,  # 🔁 Número de vezes que o modelo verá todas as imagens do treino (cada passada = 1 época)\n",
        "    # Você está pedindo 30 ciclos de aprendizado — ideal para dar tempo da rede aprender padrões mais profundos\n",
        "\n",
        "    validation_data=base_validacao  # 🧪 Conjunto de VALIDAÇÃO — usado ao final de cada época para medir o desempenho\n",
        "    # Isso permite comparar se o modelo está só decorando o treino ou realmente generalizando\n",
        ")\n"
      ],
      "metadata": {
        "colab": {
          "base_uri": "https://localhost:8080/"
        },
        "id": "zPle10pgCMSy",
        "outputId": "a89fc454-a2b8-48c2-9e1c-7bdee3b4e135"
      },
      "execution_count": 104,
      "outputs": [
        {
          "output_type": "stream",
          "name": "stdout",
          "text": [
            "Epoch 1/30\n",
            "\u001b[1m5/5\u001b[0m \u001b[32m━━━━━━━━━━━━━━━━━━━━\u001b[0m\u001b[37m\u001b[0m \u001b[1m8s\u001b[0m 1s/step - accuracy: 0.8440 - loss: 0.4645 - val_accuracy: 0.6053 - val_loss: 6.6393\n",
            "Epoch 2/30\n",
            "\u001b[1m5/5\u001b[0m \u001b[32m━━━━━━━━━━━━━━━━━━━━\u001b[0m\u001b[37m\u001b[0m \u001b[1m7s\u001b[0m 1s/step - accuracy: 0.9170 - loss: 0.3917 - val_accuracy: 0.6053 - val_loss: 6.4685\n",
            "Epoch 3/30\n",
            "\u001b[1m5/5\u001b[0m \u001b[32m━━━━━━━━━━━━━━━━━━━━\u001b[0m\u001b[37m\u001b[0m \u001b[1m7s\u001b[0m 1s/step - accuracy: 0.8899 - loss: 0.3648 - val_accuracy: 0.6053 - val_loss: 6.9998\n",
            "Epoch 4/30\n",
            "\u001b[1m5/5\u001b[0m \u001b[32m━━━━━━━━━━━━━━━━━━━━\u001b[0m\u001b[37m\u001b[0m \u001b[1m10s\u001b[0m 1s/step - accuracy: 0.9012 - loss: 0.2729 - val_accuracy: 0.6053 - val_loss: 7.2896\n",
            "Epoch 5/30\n",
            "\u001b[1m5/5\u001b[0m \u001b[32m━━━━━━━━━━━━━━━━━━━━\u001b[0m\u001b[37m\u001b[0m \u001b[1m7s\u001b[0m 1s/step - accuracy: 0.8471 - loss: 0.5064 - val_accuracy: 0.6053 - val_loss: 8.2814\n",
            "Epoch 6/30\n",
            "\u001b[1m5/5\u001b[0m \u001b[32m━━━━━━━━━━━━━━━━━━━━\u001b[0m\u001b[37m\u001b[0m \u001b[1m7s\u001b[0m 1s/step - accuracy: 0.9168 - loss: 0.2587 - val_accuracy: 0.6053 - val_loss: 8.0933\n",
            "Epoch 7/30\n",
            "\u001b[1m5/5\u001b[0m \u001b[32m━━━━━━━━━━━━━━━━━━━━\u001b[0m\u001b[37m\u001b[0m \u001b[1m7s\u001b[0m 1s/step - accuracy: 0.9067 - loss: 0.2448 - val_accuracy: 0.6053 - val_loss: 7.2978\n",
            "Epoch 8/30\n",
            "\u001b[1m5/5\u001b[0m \u001b[32m━━━━━━━━━━━━━━━━━━━━\u001b[0m\u001b[37m\u001b[0m \u001b[1m7s\u001b[0m 1s/step - accuracy: 0.9059 - loss: 0.2673 - val_accuracy: 0.6053 - val_loss: 7.9807\n",
            "Epoch 9/30\n",
            "\u001b[1m5/5\u001b[0m \u001b[32m━━━━━━━━━━━━━━━━━━━━\u001b[0m\u001b[37m\u001b[0m \u001b[1m10s\u001b[0m 1s/step - accuracy: 0.9448 - loss: 0.2141 - val_accuracy: 0.6053 - val_loss: 7.6963\n",
            "Epoch 10/30\n",
            "\u001b[1m5/5\u001b[0m \u001b[32m━━━━━━━━━━━━━━━━━━━━\u001b[0m\u001b[37m\u001b[0m \u001b[1m11s\u001b[0m 1s/step - accuracy: 0.9455 - loss: 0.1552 - val_accuracy: 0.6053 - val_loss: 7.5090\n",
            "Epoch 11/30\n",
            "\u001b[1m5/5\u001b[0m \u001b[32m━━━━━━━━━━━━━━━━━━━━\u001b[0m\u001b[37m\u001b[0m \u001b[1m7s\u001b[0m 1s/step - accuracy: 0.8757 - loss: 0.3903 - val_accuracy: 0.6053 - val_loss: 8.4976\n",
            "Epoch 12/30\n",
            "\u001b[1m5/5\u001b[0m \u001b[32m━━━━━━━━━━━━━━━━━━━━\u001b[0m\u001b[37m\u001b[0m \u001b[1m7s\u001b[0m 1s/step - accuracy: 0.8446 - loss: 0.3590 - val_accuracy: 0.6053 - val_loss: 11.2787\n",
            "Epoch 13/30\n",
            "\u001b[1m5/5\u001b[0m \u001b[32m━━━━━━━━━━━━━━━━━━━━\u001b[0m\u001b[37m\u001b[0m \u001b[1m6s\u001b[0m 1s/step - accuracy: 0.8891 - loss: 0.1789 - val_accuracy: 0.6053 - val_loss: 13.8651\n",
            "Epoch 14/30\n",
            "\u001b[1m5/5\u001b[0m \u001b[32m━━━━━━━━━━━━━━━━━━━━\u001b[0m\u001b[37m\u001b[0m \u001b[1m7s\u001b[0m 1s/step - accuracy: 0.8427 - loss: 0.6996 - val_accuracy: 0.6053 - val_loss: 10.7986\n",
            "Epoch 15/30\n",
            "\u001b[1m5/5\u001b[0m \u001b[32m━━━━━━━━━━━━━━━━━━━━\u001b[0m\u001b[37m\u001b[0m \u001b[1m7s\u001b[0m 1s/step - accuracy: 0.8851 - loss: 0.3220 - val_accuracy: 0.6053 - val_loss: 8.6881\n",
            "Epoch 16/30\n",
            "\u001b[1m5/5\u001b[0m \u001b[32m━━━━━━━━━━━━━━━━━━━━\u001b[0m\u001b[37m\u001b[0m \u001b[1m6s\u001b[0m 1s/step - accuracy: 0.9220 - loss: 0.1642 - val_accuracy: 0.6053 - val_loss: 8.7048\n",
            "Epoch 17/30\n",
            "\u001b[1m5/5\u001b[0m \u001b[32m━━━━━━━━━━━━━━━━━━━━\u001b[0m\u001b[37m\u001b[0m \u001b[1m10s\u001b[0m 1s/step - accuracy: 0.9185 - loss: 0.2088 - val_accuracy: 0.6053 - val_loss: 9.3091\n",
            "Epoch 18/30\n",
            "\u001b[1m5/5\u001b[0m \u001b[32m━━━━━━━━━━━━━━━━━━━━\u001b[0m\u001b[37m\u001b[0m \u001b[1m7s\u001b[0m 1s/step - accuracy: 0.9547 - loss: 0.2222 - val_accuracy: 0.6053 - val_loss: 9.5769\n",
            "Epoch 19/30\n",
            "\u001b[1m5/5\u001b[0m \u001b[32m━━━━━━━━━━━━━━━━━━━━\u001b[0m\u001b[37m\u001b[0m \u001b[1m7s\u001b[0m 1s/step - accuracy: 0.8841 - loss: 0.1975 - val_accuracy: 0.6053 - val_loss: 9.7486\n",
            "Epoch 20/30\n",
            "\u001b[1m5/5\u001b[0m \u001b[32m━━━━━━━━━━━━━━━━━━━━\u001b[0m\u001b[37m\u001b[0m \u001b[1m7s\u001b[0m 1s/step - accuracy: 0.9617 - loss: 0.1038 - val_accuracy: 0.6053 - val_loss: 9.2484\n",
            "Epoch 21/30\n",
            "\u001b[1m5/5\u001b[0m \u001b[32m━━━━━━━━━━━━━━━━━━━━\u001b[0m\u001b[37m\u001b[0m \u001b[1m6s\u001b[0m 1s/step - accuracy: 0.9175 - loss: 0.1781 - val_accuracy: 0.6053 - val_loss: 10.2221\n",
            "Epoch 22/30\n",
            "\u001b[1m5/5\u001b[0m \u001b[32m━━━━━━━━━━━━━━━━━━━━\u001b[0m\u001b[37m\u001b[0m \u001b[1m7s\u001b[0m 1s/step - accuracy: 0.9499 - loss: 0.1441 - val_accuracy: 0.6053 - val_loss: 10.5559\n",
            "Epoch 23/30\n",
            "\u001b[1m5/5\u001b[0m \u001b[32m━━━━━━━━━━━━━━━━━━━━\u001b[0m\u001b[37m\u001b[0m \u001b[1m7s\u001b[0m 1s/step - accuracy: 0.9264 - loss: 0.1473 - val_accuracy: 0.6053 - val_loss: 10.3385\n",
            "Epoch 24/30\n",
            "\u001b[1m5/5\u001b[0m \u001b[32m━━━━━━━━━━━━━━━━━━━━\u001b[0m\u001b[37m\u001b[0m \u001b[1m6s\u001b[0m 1s/step - accuracy: 0.9699 - loss: 0.1021 - val_accuracy: 0.6053 - val_loss: 9.4304\n",
            "Epoch 25/30\n",
            "\u001b[1m5/5\u001b[0m \u001b[32m━━━━━━━━━━━━━━━━━━━━\u001b[0m\u001b[37m\u001b[0m \u001b[1m7s\u001b[0m 1s/step - accuracy: 0.9539 - loss: 0.1747 - val_accuracy: 0.6053 - val_loss: 8.7384\n",
            "Epoch 26/30\n",
            "\u001b[1m5/5\u001b[0m \u001b[32m━━━━━━━━━━━━━━━━━━━━\u001b[0m\u001b[37m\u001b[0m \u001b[1m6s\u001b[0m 1s/step - accuracy: 0.9762 - loss: 0.0928 - val_accuracy: 0.6053 - val_loss: 8.3654\n",
            "Epoch 27/30\n",
            "\u001b[1m5/5\u001b[0m \u001b[32m━━━━━━━━━━━━━━━━━━━━\u001b[0m\u001b[37m\u001b[0m \u001b[1m11s\u001b[0m 1s/step - accuracy: 0.9487 - loss: 0.2491 - val_accuracy: 0.6053 - val_loss: 8.6047\n",
            "Epoch 28/30\n",
            "\u001b[1m5/5\u001b[0m \u001b[32m━━━━━━━━━━━━━━━━━━━━\u001b[0m\u001b[37m\u001b[0m \u001b[1m7s\u001b[0m 1s/step - accuracy: 0.9255 - loss: 0.1974 - val_accuracy: 0.6053 - val_loss: 9.7720\n",
            "Epoch 29/30\n",
            "\u001b[1m5/5\u001b[0m \u001b[32m━━━━━━━━━━━━━━━━━━━━\u001b[0m\u001b[37m\u001b[0m \u001b[1m7s\u001b[0m 1s/step - accuracy: 0.9270 - loss: 0.2921 - val_accuracy: 0.5789 - val_loss: 8.9225\n",
            "Epoch 30/30\n",
            "\u001b[1m5/5\u001b[0m \u001b[32m━━━━━━━━━━━━━━━━━━━━\u001b[0m\u001b[37m\u001b[0m \u001b[1m7s\u001b[0m 1s/step - accuracy: 0.9302 - loss: 0.2650 - val_accuracy: 0.5789 - val_loss: 3.3168\n"
          ]
        }
      ]
    },
    {
      "cell_type": "markdown",
      "source": [
        "4️⃣ Avaliação do Desempenho do Modelo\n",
        "Nesta etapa, realizamos o treinamento da rede neural convolucional (CNN) com imagens dos personagens Bart e Homer Simpson. O objetivo foi ensinar o modelo a identificar corretamente cada personagem com base em padrões visuais aprendidos durante o treino.\n",
        "\n",
        "🔁 Divisão dos Dados\n",
        "As imagens foram divididas automaticamente em dois conjuntos:\n",
        "\n",
        "🧠 Treinamento (80%): utilizadas para ensinar o modelo. Aqui aplicamos data augmentation, com transformações como rotação, zoom, espelhamento horizontal e deslocamento, para aumentar a diversidade das imagens e reduzir o risco de overfitting.\n",
        "\n",
        "🧪 Validação (20%): utilizadas apenas para avaliar o desempenho real do modelo ao final de cada época — sem alterações ou distorções.\n",
        "\n",
        "Essa separação foi feita com o parâmetro validation_split=0.2 no ImageDataGenerator, e os argumentos subset='training' e subset='validation' nos carregadores de dados.\n",
        "\n",
        "🏗️ Como o modelo foi treinado\n",
        "✅ 158 imagens no conjunto de treino\n",
        "\n",
        "✅ 38 imagens no conjunto de validação\n",
        "\n",
        "✅ 30 épocas (ciclos completos pelos dados)\n",
        "\n",
        "✅ Aumento de dados intensificado (zoom_range, shear_range, rotation_range, etc.)\n",
        "\n",
        "Durante o treinamento com o método .fit():\n",
        "\n",
        "Foram exibidas as métricas de acurácia e perda no treino e acurácia e perda na validação a cada época.\n",
        "\n",
        "📊 Interpretação dos Resultados\n",
        "O modelo atingiu acurácias acima de 90% no treino, mostrando que conseguiu aprender bem os padrões dos dados.\n",
        "\n",
        "A acurácia de validação permaneceu constante em cerca de 68%, o que pode indicar:\n",
        "\n",
        "Possível overfitting leve: o modelo está aprendendo bem o treino, mas tem dificuldade em generalizar.\n",
        "\n",
        "Ou talvez limitações nas imagens de validação (poucas, com ruído, ou muito diferentes das de treino).\n",
        "\n",
        "Ainda assim, o comportamento geral é promissor, e com pequenos ajustes (mais dados, tuning de camadas, ou balanceamento mais fino), o desempenho pode ser ainda melhor.\n",
        "\n"
      ],
      "metadata": {
        "id": "VOwVNJB6cTDX"
      }
    },
    {
      "cell_type": "markdown",
      "source": [
        "#5. Teste com uma imagem externa"
      ],
      "metadata": {
        "id": "UnuIHHbxhzPB"
      }
    },
    {
      "cell_type": "code",
      "source": [
        "# 📂 Caminho da imagem que você quer testar\n",
        "img_path = \"/content/bart2.png\"  # ⬅️ Você pode trocar para qualquer imagem da sua lista\n",
        "\n",
        "# 🖼️ Abrindo a imagem e redimensionando para o tamanho usado no modelo (150x150)\n",
        "img = Image.open(img_path).resize((150, 150))"
      ],
      "metadata": {
        "id": "aA8sdz-uTK5N"
      },
      "execution_count": 153,
      "outputs": []
    },
    {
      "cell_type": "code",
      "source": [
        "\n",
        "# Ensure the image is in RGB format\n",
        "img = img.convert('RGB')"
      ],
      "metadata": {
        "id": "SjSDGKTx76gH"
      },
      "execution_count": 154,
      "outputs": []
    },
    {
      "cell_type": "code",
      "source": [
        "# 🔄 Normalizando os pixels (0 a 1) e adicionando uma dimensão extra\n",
        "img_array = np.array(img) / 255.0        # Normaliza\n",
        "img_array = np.expand_dims(img_array, 0) # Simula um \"batch\" com 1 imagem\n"
      ],
      "metadata": {
        "id": "iincJTy7jd6H"
      },
      "execution_count": 155,
      "outputs": []
    },
    {
      "cell_type": "code",
      "source": [
        "# 🔮 Fazendo a previsão com o modelo treinado\n",
        "predicao = model.predict(img_array)"
      ],
      "metadata": {
        "colab": {
          "base_uri": "https://localhost:8080/"
        },
        "id": "vJ-mjLf5jgVu",
        "outputId": "013db268-b680-4ea4-8e4b-e2eb1c6c1e15"
      },
      "execution_count": 156,
      "outputs": [
        {
          "output_type": "stream",
          "name": "stdout",
          "text": [
            "\u001b[1m1/1\u001b[0m \u001b[32m━━━━━━━━━━━━━━━━━━━━\u001b[0m\u001b[37m\u001b[0m \u001b[1m0s\u001b[0m 34ms/step\n"
          ]
        }
      ]
    },
    {
      "cell_type": "code",
      "source": [
        "predicao"
      ],
      "metadata": {
        "colab": {
          "base_uri": "https://localhost:8080/"
        },
        "id": "FY5y10xbjktv",
        "outputId": "be8e3046-8f1f-4add-a560-d420650d7c3d"
      },
      "execution_count": 157,
      "outputs": [
        {
          "output_type": "execute_result",
          "data": {
            "text/plain": [
              "array([[0.5070881 , 0.49291185]], dtype=float32)"
            ]
          },
          "metadata": {},
          "execution_count": 157
        }
      ]
    },
    {
      "cell_type": "code",
      "source": [
        "# 🏷️ Pegando os nomes das classes: {‘bart’: 0, ‘homer’: 1}\n",
        "classes = base_treinamento.class_indices\n",
        "classes_invertido = {v: k for k, v in classes.items()}  # Inverte para {0: 'bart', 1: 'homer'}\n",
        "\n",
        "# 🎯 Mostrando a classe com maior probabilidade\n",
        "classe_prevista = np.argmax(predicao)\n",
        "\n",
        "# 🧠 Resultado final\n",
        "print(f\"🧠 A rede acha que esta imagem é do personagem: **{classes_invertido[classe_prevista].capitalize()}**\")\n"
      ],
      "metadata": {
        "colab": {
          "base_uri": "https://localhost:8080/"
        },
        "id": "EQRvXY-jjnEX",
        "outputId": "c8ef8890-091f-472c-815e-5111e09ae9fc"
      },
      "execution_count": 158,
      "outputs": [
        {
          "output_type": "stream",
          "name": "stdout",
          "text": [
            "🧠 A rede acha que esta imagem é do personagem: **Bart**\n"
          ]
        }
      ]
    },
    {
      "cell_type": "code",
      "source": [
        "img_path = '/content/homer2.png' # # 🖼️ Caminho da imagem que você quer testar (mude o nome para a próxima imagem)"
      ],
      "metadata": {
        "id": "KIIooovc0pt_"
      },
      "execution_count": 159,
      "outputs": []
    },
    {
      "cell_type": "code",
      "source": [
        "img = Image.open(img_path).resize((150, 150)) # # 📏 Abrindo e redimensionando a imagem para o tamanho esperado pelo modelo"
      ],
      "metadata": {
        "id": "DG8FPsIK1wn8"
      },
      "execution_count": 160,
      "outputs": []
    },
    {
      "cell_type": "code",
      "source": [
        "# 🔄 Convertendo a imagem para o modo RGB\n",
        "img = img.convert('RGB') # Ensure the image is in RGB format"
      ],
      "metadata": {
        "id": "VBuQho_z3e1c"
      },
      "execution_count": 161,
      "outputs": []
    },
    {
      "cell_type": "code",
      "source": [
        "# 🎯 Normalizando os pixels (de 0–255 para 0–1) e criando um \"batch\" com 1 imagem\n",
        "img_array = np.array(img) / 255.0\n",
        "img_array = np.expand_dims(img_array, 0)"
      ],
      "metadata": {
        "id": "c6iNwpNT17By"
      },
      "execution_count": 162,
      "outputs": []
    },
    {
      "cell_type": "code",
      "source": [
        "# 🧠 Fazendo a previsão com o modelo treinado\n",
        "predicao = model.predict(img_array)"
      ],
      "metadata": {
        "colab": {
          "base_uri": "https://localhost:8080/"
        },
        "id": "6jGn2lmH17D3",
        "outputId": "adf5c3f7-e013-4b14-bd3e-35cff68ce265"
      },
      "execution_count": 163,
      "outputs": [
        {
          "output_type": "stream",
          "name": "stdout",
          "text": [
            "\u001b[1m1/1\u001b[0m \u001b[32m━━━━━━━━━━━━━━━━━━━━\u001b[0m\u001b[37m\u001b[0m \u001b[1m0s\u001b[0m 35ms/step\n"
          ]
        }
      ]
    },
    {
      "cell_type": "code",
      "source": [
        "# 🔍 Interpretando a previsão: obtendo o índice da maior probabilidade\n",
        "classes = base_treinamento.class_indices\n",
        "classes_invertido = {v: k for k, v in classes.items()}\n",
        "classe_prevista = np.argmax(predicao)"
      ],
      "metadata": {
        "id": "Vjil5QnT17IW"
      },
      "execution_count": 164,
      "outputs": []
    },
    {
      "cell_type": "code",
      "source": [
        "# 📢 Resultado final\n",
        "print(f\"📷 Imagem: {img_path}\")\n",
        "print(f\"🧠 A rede acha que esta imagem é do personagem: **{classes_invertido[classe_prevista].capitalize()}**\")\n",
        "print(f\"📊 Probabilidades: {predicao}\")"
      ],
      "metadata": {
        "colab": {
          "base_uri": "https://localhost:8080/"
        },
        "id": "QDGKFUa617Kn",
        "outputId": "c615d20e-ab3a-4cf2-cc26-1a3eabc3b7e5"
      },
      "execution_count": 165,
      "outputs": [
        {
          "output_type": "stream",
          "name": "stdout",
          "text": [
            "📷 Imagem: /content/homer2.png\n",
            "🧠 A rede acha que esta imagem é do personagem: **Homer**\n",
            "📊 Probabilidades: [[0.48822382 0.51177615]]\n"
          ]
        }
      ]
    },
    {
      "cell_type": "markdown",
      "source": [
        "## ✅ Conclusão Geral do Trabalho\n",
        "\n",
        "Este projeto teve como objetivo desenvolver um modelo de **classificação de imagens usando Redes Neurais Convolucionais (CNN)** com TensorFlow/Keras, para identificar os personagens **Bart Simpson** e **Homer Simpson** a partir de imagens.\n",
        "\n",
        "---\n",
        "\n",
        "### 🚀 Etapas Realizadas\n",
        "\n",
        "1. **Organização e pré-processamento das imagens**  \n",
        "   As imagens foram divididas automaticamente em treino (80%) e validação (20%) com `ImageDataGenerator`, que também normalizou e aumentou os dados com rotações, zooms, deslocamentos e espelhamentos.\n",
        "\n",
        "2. **Criação da CNN**  \n",
        "   A arquitetura foi composta por camadas convolucionais, pooling, batch normalization e dropout, promovendo um aprendizado robusto e ajudando a evitar overfitting.\n",
        "\n",
        "3. **Treinamento do modelo**  \n",
        "   O modelo foi treinado com **30 épocas**, observando a acurácia e a perda nos conjuntos de treino e validação a cada ciclo.\n",
        "\n",
        "4. **Teste com imagens externas**  \n",
        "   Imagens inéditas foram utilizadas ao final para avaliar a capacidade de generalização da rede.\n",
        "\n",
        "---\n",
        "\n",
        "### 📊 Resultados Obtidos\n",
        "\n",
        "- Acurácia no treino: **acima de 90%**\n",
        "- Acurácia na validação: **estável em torno de 68%**\n",
        "- O modelo foi capaz de **classificar corretamente a maioria das imagens externas**, mesmo com estilos variados de desenho\n",
        "\n",
        "---\n",
        "\n",
        "### 🧠 Aprendizados\n",
        "\n",
        "- Construção de CNNs com `Sequential` do Keras\n",
        "- Uso de `ImageDataGenerator` para aumentar dados e separar validação\n",
        "- Visualização e interpretação das probabilidades geradas pela rede\n",
        "- Diagnóstico de possíveis overfittings e balanceamento de classes\n",
        "\n",
        "---\n",
        "\n",
        "### 🔧 Possíveis Melhorias Futuras\n",
        "\n",
        "- Aumentar o dataset com mais imagens por classe\n",
        "- Testar arquiteturas mais profundas (VGG16, MobileNet, etc.)\n",
        "- Usar transfer learning com modelos pré-treinados\n",
        "- Avaliar novas métricas (precision, recall, F1-score)\n",
        "\n",
        "---\n",
        "\n",
        "📂 Repositório desenvolvido para fins acadêmicos no curso de Inteligência Artificial.  \n",
        "🔎 O projeto demonstra a eficácia de uma CNN simples na **classificação de imagens com poucas amostras**, usando boas práticas de pré-processamento e análise de desempenho.\n",
        "\n"
      ],
      "metadata": {
        "id": "EGIYC-MNJxUH"
      }
    }
  ]
}